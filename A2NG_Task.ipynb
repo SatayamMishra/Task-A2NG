{
  "nbformat": 4,
  "nbformat_minor": 0,
  "metadata": {
    "colab": {
      "provenance": [],
      "mount_file_id": "1o22N9h66HRtZ1CJJNNxQZwf8YOI7LL8R",
      "authorship_tag": "ABX9TyM32NqSx/K4ZC+TO611guzP",
      "include_colab_link": true
    },
    "kernelspec": {
      "name": "python3",
      "display_name": "Python 3"
    },
    "language_info": {
      "name": "python"
    }
  },
  "cells": [
    {
      "cell_type": "markdown",
      "metadata": {
        "id": "view-in-github",
        "colab_type": "text"
      },
      "source": [
        "<a href=\"https://colab.research.google.com/github/SatayamMishra/Task-A2NG/blob/main/A2NG_Task.ipynb\" target=\"_parent\"><img src=\"https://colab.research.google.com/assets/colab-badge.svg\" alt=\"Open In Colab\"/></a>"
      ]
    },
    {
      "cell_type": "markdown",
      "source": [
        "### **Assignment**\n",
        "## **Satyam Mishra**"
      ],
      "metadata": {
        "id": "M9ptJBohaSPj"
      }
    },
    {
      "cell_type": "markdown",
      "source": [
        "# **Import all Necessary Libraries**"
      ],
      "metadata": {
        "id": "NP8WVdK4avxY"
      }
    },
    {
      "cell_type": "code",
      "source": [
        "import numpy as np\n",
        "import pandas as pd\n",
        "import matplotlib.pyplot as plt"
      ],
      "metadata": {
        "id": "ANmPb84Wary4"
      },
      "execution_count": 1,
      "outputs": []
    },
    {
      "cell_type": "code",
      "source": [
        "df = pd.read_csv(\"/content/drive/MyDrive/Colab Notebooks/Assignment/1.csv\")"
      ],
      "metadata": {
        "id": "btp55dTBbDfd"
      },
      "execution_count": 2,
      "outputs": []
    },
    {
      "cell_type": "code",
      "source": [
        "df.head()"
      ],
      "metadata": {
        "colab": {
          "base_uri": "https://localhost:8080/",
          "height": 206
        },
        "id": "tMMRhy4Vbbhj",
        "outputId": "a151197b-624d-4114-9f56-22fda84ca808"
      },
      "execution_count": 3,
      "outputs": [
        {
          "output_type": "execute_result",
          "data": {
            "text/plain": [
              "         Date         Y        X1        X2      X3     X4        X5\n",
              "0  10/24/2004  0.050687  0.034394 -0.016929 -0.3691 -4.325  0.422199\n",
              "1  10/31/2004  0.070429  0.031546  0.088467 -0.3865 -4.500  0.309839\n",
              "2   11/7/2004  0.147582  0.046045  0.092360 -0.3802 -4.760  0.217130\n",
              "3  11/14/2004  0.155949  0.044735  0.096254 -0.4095 -5.020  0.135458\n",
              "4  11/21/2004  0.111819  0.033630  0.100147 -0.3440 -5.280  0.181475"
            ],
            "text/html": [
              "\n",
              "  <div id=\"df-131338db-c465-41ef-9de0-d168efb0d7a2\">\n",
              "    <div class=\"colab-df-container\">\n",
              "      <div>\n",
              "<style scoped>\n",
              "    .dataframe tbody tr th:only-of-type {\n",
              "        vertical-align: middle;\n",
              "    }\n",
              "\n",
              "    .dataframe tbody tr th {\n",
              "        vertical-align: top;\n",
              "    }\n",
              "\n",
              "    .dataframe thead th {\n",
              "        text-align: right;\n",
              "    }\n",
              "</style>\n",
              "<table border=\"1\" class=\"dataframe\">\n",
              "  <thead>\n",
              "    <tr style=\"text-align: right;\">\n",
              "      <th></th>\n",
              "      <th>Date</th>\n",
              "      <th>Y</th>\n",
              "      <th>X1</th>\n",
              "      <th>X2</th>\n",
              "      <th>X3</th>\n",
              "      <th>X4</th>\n",
              "      <th>X5</th>\n",
              "    </tr>\n",
              "  </thead>\n",
              "  <tbody>\n",
              "    <tr>\n",
              "      <th>0</th>\n",
              "      <td>10/24/2004</td>\n",
              "      <td>0.050687</td>\n",
              "      <td>0.034394</td>\n",
              "      <td>-0.016929</td>\n",
              "      <td>-0.3691</td>\n",
              "      <td>-4.325</td>\n",
              "      <td>0.422199</td>\n",
              "    </tr>\n",
              "    <tr>\n",
              "      <th>1</th>\n",
              "      <td>10/31/2004</td>\n",
              "      <td>0.070429</td>\n",
              "      <td>0.031546</td>\n",
              "      <td>0.088467</td>\n",
              "      <td>-0.3865</td>\n",
              "      <td>-4.500</td>\n",
              "      <td>0.309839</td>\n",
              "    </tr>\n",
              "    <tr>\n",
              "      <th>2</th>\n",
              "      <td>11/7/2004</td>\n",
              "      <td>0.147582</td>\n",
              "      <td>0.046045</td>\n",
              "      <td>0.092360</td>\n",
              "      <td>-0.3802</td>\n",
              "      <td>-4.760</td>\n",
              "      <td>0.217130</td>\n",
              "    </tr>\n",
              "    <tr>\n",
              "      <th>3</th>\n",
              "      <td>11/14/2004</td>\n",
              "      <td>0.155949</td>\n",
              "      <td>0.044735</td>\n",
              "      <td>0.096254</td>\n",
              "      <td>-0.4095</td>\n",
              "      <td>-5.020</td>\n",
              "      <td>0.135458</td>\n",
              "    </tr>\n",
              "    <tr>\n",
              "      <th>4</th>\n",
              "      <td>11/21/2004</td>\n",
              "      <td>0.111819</td>\n",
              "      <td>0.033630</td>\n",
              "      <td>0.100147</td>\n",
              "      <td>-0.3440</td>\n",
              "      <td>-5.280</td>\n",
              "      <td>0.181475</td>\n",
              "    </tr>\n",
              "  </tbody>\n",
              "</table>\n",
              "</div>\n",
              "      <button class=\"colab-df-convert\" onclick=\"convertToInteractive('df-131338db-c465-41ef-9de0-d168efb0d7a2')\"\n",
              "              title=\"Convert this dataframe to an interactive table.\"\n",
              "              style=\"display:none;\">\n",
              "        \n",
              "  <svg xmlns=\"http://www.w3.org/2000/svg\" height=\"24px\"viewBox=\"0 0 24 24\"\n",
              "       width=\"24px\">\n",
              "    <path d=\"M0 0h24v24H0V0z\" fill=\"none\"/>\n",
              "    <path d=\"M18.56 5.44l.94 2.06.94-2.06 2.06-.94-2.06-.94-.94-2.06-.94 2.06-2.06.94zm-11 1L8.5 8.5l.94-2.06 2.06-.94-2.06-.94L8.5 2.5l-.94 2.06-2.06.94zm10 10l.94 2.06.94-2.06 2.06-.94-2.06-.94-.94-2.06-.94 2.06-2.06.94z\"/><path d=\"M17.41 7.96l-1.37-1.37c-.4-.4-.92-.59-1.43-.59-.52 0-1.04.2-1.43.59L10.3 9.45l-7.72 7.72c-.78.78-.78 2.05 0 2.83L4 21.41c.39.39.9.59 1.41.59.51 0 1.02-.2 1.41-.59l7.78-7.78 2.81-2.81c.8-.78.8-2.07 0-2.86zM5.41 20L4 18.59l7.72-7.72 1.47 1.35L5.41 20z\"/>\n",
              "  </svg>\n",
              "      </button>\n",
              "      \n",
              "  <style>\n",
              "    .colab-df-container {\n",
              "      display:flex;\n",
              "      flex-wrap:wrap;\n",
              "      gap: 12px;\n",
              "    }\n",
              "\n",
              "    .colab-df-convert {\n",
              "      background-color: #E8F0FE;\n",
              "      border: none;\n",
              "      border-radius: 50%;\n",
              "      cursor: pointer;\n",
              "      display: none;\n",
              "      fill: #1967D2;\n",
              "      height: 32px;\n",
              "      padding: 0 0 0 0;\n",
              "      width: 32px;\n",
              "    }\n",
              "\n",
              "    .colab-df-convert:hover {\n",
              "      background-color: #E2EBFA;\n",
              "      box-shadow: 0px 1px 2px rgba(60, 64, 67, 0.3), 0px 1px 3px 1px rgba(60, 64, 67, 0.15);\n",
              "      fill: #174EA6;\n",
              "    }\n",
              "\n",
              "    [theme=dark] .colab-df-convert {\n",
              "      background-color: #3B4455;\n",
              "      fill: #D2E3FC;\n",
              "    }\n",
              "\n",
              "    [theme=dark] .colab-df-convert:hover {\n",
              "      background-color: #434B5C;\n",
              "      box-shadow: 0px 1px 3px 1px rgba(0, 0, 0, 0.15);\n",
              "      filter: drop-shadow(0px 1px 2px rgba(0, 0, 0, 0.3));\n",
              "      fill: #FFFFFF;\n",
              "    }\n",
              "  </style>\n",
              "\n",
              "      <script>\n",
              "        const buttonEl =\n",
              "          document.querySelector('#df-131338db-c465-41ef-9de0-d168efb0d7a2 button.colab-df-convert');\n",
              "        buttonEl.style.display =\n",
              "          google.colab.kernel.accessAllowed ? 'block' : 'none';\n",
              "\n",
              "        async function convertToInteractive(key) {\n",
              "          const element = document.querySelector('#df-131338db-c465-41ef-9de0-d168efb0d7a2');\n",
              "          const dataTable =\n",
              "            await google.colab.kernel.invokeFunction('convertToInteractive',\n",
              "                                                     [key], {});\n",
              "          if (!dataTable) return;\n",
              "\n",
              "          const docLinkHtml = 'Like what you see? Visit the ' +\n",
              "            '<a target=\"_blank\" href=https://colab.research.google.com/notebooks/data_table.ipynb>data table notebook</a>'\n",
              "            + ' to learn more about interactive tables.';\n",
              "          element.innerHTML = '';\n",
              "          dataTable['output_type'] = 'display_data';\n",
              "          await google.colab.output.renderOutput(dataTable, element);\n",
              "          const docLink = document.createElement('div');\n",
              "          docLink.innerHTML = docLinkHtml;\n",
              "          element.appendChild(docLink);\n",
              "        }\n",
              "      </script>\n",
              "    </div>\n",
              "  </div>\n",
              "  "
            ]
          },
          "metadata": {},
          "execution_count": 3
        }
      ]
    },
    {
      "cell_type": "code",
      "source": [
        "df.shape"
      ],
      "metadata": {
        "colab": {
          "base_uri": "https://localhost:8080/"
        },
        "id": "Mf7FXo-u9sLi",
        "outputId": "9ea2619f-9e3c-4849-8acc-f4f6d86a25d8"
      },
      "execution_count": 4,
      "outputs": [
        {
          "output_type": "execute_result",
          "data": {
            "text/plain": [
              "(920, 7)"
            ]
          },
          "metadata": {},
          "execution_count": 4
        }
      ]
    },
    {
      "cell_type": "markdown",
      "source": [
        "# **Checking Any Null Value**"
      ],
      "metadata": {
        "id": "ZRubgqYtmeKA"
      }
    },
    {
      "cell_type": "code",
      "source": [
        "df.isna().any()"
      ],
      "metadata": {
        "colab": {
          "base_uri": "https://localhost:8080/"
        },
        "id": "0Q8YZes99vj0",
        "outputId": "d69f04c4-70fa-47bb-f08c-590f4b087ecb"
      },
      "execution_count": 5,
      "outputs": [
        {
          "output_type": "execute_result",
          "data": {
            "text/plain": [
              "Date    False\n",
              "Y       False\n",
              "X1      False\n",
              "X2      False\n",
              "X3      False\n",
              "X4      False\n",
              "X5      False\n",
              "dtype: bool"
            ]
          },
          "metadata": {},
          "execution_count": 5
        }
      ]
    },
    {
      "cell_type": "markdown",
      "source": [
        "# **Calculate the correlation matrix**"
      ],
      "metadata": {
        "id": "afX6ZSjfhjsC"
      }
    },
    {
      "cell_type": "code",
      "source": [
        "corr_matrix = df[['X1', 'X2', 'X3', 'X4', 'X5']].corr()\n",
        "\n",
        "# Display the correlation matrix\n",
        "print(corr_matrix)"
      ],
      "metadata": {
        "colab": {
          "base_uri": "https://localhost:8080/"
        },
        "id": "LkfBtIMfse7K",
        "outputId": "4d1b6131-cd3e-48be-c01b-70ed9633e9d7"
      },
      "execution_count": 6,
      "outputs": [
        {
          "output_type": "stream",
          "name": "stdout",
          "text": [
            "          X1        X2        X3        X4        X5\n",
            "X1  1.000000 -0.307005  0.066353  0.287839  0.378803\n",
            "X2 -0.307005  1.000000  0.001023 -0.360993 -0.227640\n",
            "X3  0.066353  0.001023  1.000000 -0.097333 -0.013056\n",
            "X4  0.287839 -0.360993 -0.097333  1.000000  0.363809\n",
            "X5  0.378803 -0.227640 -0.013056  0.363809  1.000000\n"
          ]
        }
      ]
    },
    {
      "cell_type": "markdown",
      "source": [
        "## **Calculate the VIF for each independent variable**"
      ],
      "metadata": {
        "id": "DpNQ1v9YhcVl"
      }
    },
    {
      "cell_type": "code",
      "source": [
        "from statsmodels.stats.outliers_influence import variance_inflation_factor\n",
        "\n",
        "vif = pd.DataFrame()\n",
        "vif[\"variables\"] = df[['X1', 'X2', 'X3', 'X4', 'X5']].columns\n",
        "vif[\"VIF\"] = [variance_inflation_factor(df[['X1', 'X2', 'X3', 'X4', 'X5']].values, i) for i in range(len(df[['X1', 'X2', 'X3', 'X4', 'X5']].columns))]\n",
        "\n",
        "# Display the VIF dataframe\n",
        "print(vif)"
      ],
      "metadata": {
        "colab": {
          "base_uri": "https://localhost:8080/"
        },
        "id": "ku6fuFT8sjPw",
        "outputId": "21dcb763-cfd6-4a22-df4d-87cf941b30a5"
      },
      "execution_count": 7,
      "outputs": [
        {
          "output_type": "stream",
          "name": "stdout",
          "text": [
            "  variables       VIF\n",
            "0        X1  1.266508\n",
            "1        X2  1.216159\n",
            "2        X3  1.019086\n",
            "3        X4  1.300098\n",
            "4        X5  1.269872\n"
          ]
        }
      ]
    },
    {
      "cell_type": "markdown",
      "source": [
        "## **Fit the OLS regression model**"
      ],
      "metadata": {
        "id": "AlBFw0krhEPc"
      }
    },
    {
      "cell_type": "code",
      "source": [
        "import statsmodels.api as sm\n",
        "# create X and y arrays\n",
        "X = df[['X1', 'X2', 'X3', 'X4', 'X5']]\n",
        "y = df['Y']\n",
        "\n",
        "# add constant to X\n",
        "X = sm.add_constant(X)\n",
        "\n",
        "# fit OLS model\n",
        "model = sm.OLS(y, X).fit()"
      ],
      "metadata": {
        "id": "Cn3Y2nEus05b"
      },
      "execution_count": 8,
      "outputs": []
    },
    {
      "cell_type": "markdown",
      "source": [
        "### **To check for homoscedasticity, we can plot the residuals against the predicted values**\n"
      ],
      "metadata": {
        "id": "PpiuXn4YgIl-"
      }
    },
    {
      "cell_type": "code",
      "source": [
        "plt.scatter(model.predict(X), model.resid)\n",
        "plt.xlabel('Predicted Values')\n",
        "plt.ylabel('Residuals')\n",
        "plt.title('Residuals vs. Predicted Values')\n",
        "plt.show()"
      ],
      "metadata": {
        "colab": {
          "base_uri": "https://localhost:8080/",
          "height": 472
        },
        "id": "vXq5JSahs_8g",
        "outputId": "72067f81-71d5-43a0-fe2c-9a747dbee6a4"
      },
      "execution_count": 9,
      "outputs": [
        {
          "output_type": "display_data",
          "data": {
            "text/plain": [
              "<Figure size 640x480 with 1 Axes>"
            ],
            "image/png": "[encoded data removed]"
          },
          "metadata": {}
        }
      ]
    },
    {
      "cell_type": "code",
      "source": [
        "import pylab\n",
        "#Check for the normality of the residuals\n",
        "sm.qqplot(model.resid, line='s')\n",
        "pylab.show()\n",
        "\n",
        "# check that mean of residuals is approx zero\n",
        "mean_residuals= sum(model.resid)/len(model.resid)\n",
        "mean_residuals"
      ],
      "metadata": {
        "colab": {
          "base_uri": "https://localhost:8080/",
          "height": 466
        },
        "id": "_E_DhHY9mDNg",
        "outputId": "7191ed1b-5427-4c0e-a6b9-94a4657b37e2"
      },
      "execution_count": 10,
      "outputs": [
        {
          "output_type": "display_data",
          "data": {
            "text/plain": [
              "<Figure size 640x480 with 1 Axes>"
            ],
            "image/png": "[encoded data removed]"
          },
          "metadata": {}
        },
        {
          "output_type": "execute_result",
          "data": {
            "text/plain": [
              "-7.617698742332935e-18"
            ]
          },
          "metadata": {},
          "execution_count": 10
        }
      ]
    },
    {
      "cell_type": "markdown",
      "source": [
        "## **Check Ordinary least squares Model summary**"
      ],
      "metadata": {
        "id": "gMF1ljeEh-G5"
      }
    },
    {
      "cell_type": "code",
      "source": [
        "print(model.summary())"
      ],
      "metadata": {
        "colab": {
          "base_uri": "https://localhost:8080/"
        },
        "id": "Cva2iUTib9KC",
        "outputId": "10c1bfe6-7305-48e0-9472-5f36399cb2f3"
      },
      "execution_count": 11,
      "outputs": [
        {
          "output_type": "stream",
          "name": "stdout",
          "text": [
            "                            OLS Regression Results                            \n",
            "==============================================================================\n",
            "Dep. Variable:                      Y   R-squared:                       0.691\n",
            "Model:                            OLS   Adj. R-squared:                  0.689\n",
            "Method:                 Least Squares   F-statistic:                     409.1\n",
            "Date:                Mon, 10 Apr 2023   Prob (F-statistic):          2.81e-230\n",
            "Time:                        19:22:46   Log-Likelihood:                 892.29\n",
            "No. Observations:                 920   AIC:                            -1773.\n",
            "Df Residuals:                     914   BIC:                            -1744.\n",
            "Df Model:                           5                                         \n",
            "Covariance Type:            nonrobust                                         \n",
            "==============================================================================\n",
            "                 coef    std err          t      P>|t|      [0.025      0.975]\n",
            "------------------------------------------------------------------------------\n",
            "const          0.0037      0.003      1.154      0.249      -0.003       0.010\n",
            "X1             0.8971      0.083     10.764      0.000       0.734       1.061\n",
            "X2            -0.1466      0.011    -13.365      0.000      -0.168      -0.125\n",
            "X3            -0.0570      0.009     -6.222      0.000      -0.075      -0.039\n",
            "X4             0.0037      0.000     16.330      0.000       0.003       0.004\n",
            "X5             0.1897      0.012     15.751      0.000       0.166       0.213\n",
            "==============================================================================\n",
            "Omnibus:                       83.983   Durbin-Watson:                   0.211\n",
            "Prob(Omnibus):                  0.000   Jarque-Bera (JB):              114.758\n",
            "Skew:                          -0.715   Prob(JB):                     1.20e-25\n",
            "Kurtosis:                       3.974   Cond. No.                         419.\n",
            "==============================================================================\n",
            "\n",
            "Notes:\n",
            "[1] Standard Errors assume that the covariance matrix of the errors is correctly specified.\n"
          ]
        }
      ]
    },
    {
      "cell_type": "markdown",
      "source": [
        "**==>>From the summary table, we can see that the R-squared value is 0.691, indicating that the model explains 69.1% of the variance in the dependent variable. The F-statistic has a p-value of 2.81e-230, indicating that the overall model is statistically significant.**"
      ],
      "metadata": {
        "id": "0zIdZ1nrg3Gy"
      }
    }
  ]
}